{
 "cells": [],
 "metadata": {
  "kernelspec": {
   "display_name": "applied-ml-miller",
   "language": "python",
   "name": "python3"
  },
  "language_info": {
   "name": "python",
   "version": "3.12.12"
  }
 },
 "nbformat": 4,
 "nbformat_minor": 5
}
