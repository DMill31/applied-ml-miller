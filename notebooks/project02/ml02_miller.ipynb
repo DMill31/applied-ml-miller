{
 "cells": [
  {
   "cell_type": "markdown",
   "id": "74ea008a",
   "metadata": {},
   "source": [
    "# Miller Titanic Data Features\n",
    "**Author:** Dan Miller\n",
    "\n",
    "**Date:** October 28th, 2025\n",
    "\n",
    "**Objective:** Explore the Titanic dataset to determine what factors impacted survival"
   ]
  },
  {
   "cell_type": "markdown",
   "id": "92ad9b93",
   "metadata": {},
   "source": [
    "## Introduction\n",
    "This project explores the Titanic dataset available to us from the seaborn library.  We will explore its features and determine if it needs to be cleaned or transformed.  Once prepping the data is complete, we will select the features to be used as predictors and our target.  In this notebook, 5 features will be used as predictors to predict the target variable survived.  Lastly, we create training and testing sets, then examine those in terms of size and distribution."
   ]
  },
  {
   "cell_type": "markdown",
   "id": "ec0d3567",
   "metadata": {},
   "source": [
    "## Section 1. Import and Inspect the Data"
   ]
  },
  {
   "cell_type": "code",
   "execution_count": 1,
   "id": "a3115828",
   "metadata": {},
   "outputs": [],
   "source": [
    "# Imports\n",
    "\n",
    "# Import matplotlib for plotting\n",
    "import matplotlib.pyplot as plt\n",
    "\n",
    "# Import pandas for data manipulation\n",
    "import pandas as pd\n",
    "from pandas.plotting import scatter_matrix\n",
    "\n",
    "# Import seaborn for statistical data visualization\n",
    "import seaborn as sns\n",
    "\n",
    "# Import train_test_split from sklearn for splitting datasets\n",
    "# Import StratifiedShuffleSplit for stratified sampling\n",
    "from sklearn.model_selection import StratifiedShuffleSplit, train_test_split\n"
   ]
  }
 ],
 "metadata": {
  "kernelspec": {
   "display_name": "applied-ml-miller",
   "language": "python",
   "name": "python3"
  },
  "language_info": {
   "codemirror_mode": {
    "name": "ipython",
    "version": 3
   },
   "file_extension": ".py",
   "mimetype": "text/x-python",
   "name": "python",
   "nbconvert_exporter": "python",
   "pygments_lexer": "ipython3",
   "version": "3.12.12"
  }
 },
 "nbformat": 4,
 "nbformat_minor": 5
}
