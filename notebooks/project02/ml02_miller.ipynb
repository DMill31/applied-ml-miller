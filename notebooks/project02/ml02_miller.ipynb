{
 "cells": [
  {
   "cell_type": "markdown",
   "id": "74ea008a",
   "metadata": {},
   "source": [
    "# Miller Titanic Data Features\n",
    "**Author:** Dan Miller\n",
    "\n",
    "**Date:** October 28th, 2025\n",
    "\n",
    "**Objective:** Explore the Titanic dataset to determine what factors impacted survival"
   ]
  },
  {
   "cell_type": "markdown",
   "id": "92ad9b93",
   "metadata": {},
   "source": [
    "## Introduction\n",
    "This project explores the Titanic dataset available to us from the seaborn library.  We will explore its features and determine if it needs to be cleaned or transformed.  Once prepping the data is complete, we will select the features to be used as predictors and our target.  In this notebook, 5 features will be used as predictors to predict the target variable survived.  Lastly, we create training and testing sets, then examine those in terms of size and distribution."
   ]
  },
  {
   "cell_type": "markdown",
   "id": "ec0d3567",
   "metadata": {},
   "source": [
    "## Section 1. Import and Inspect the Data"
   ]
  },
  {
   "cell_type": "markdown",
   "id": "e5cfc58a",
   "metadata": {},
   "source": [
    "### 1.1 Import the necessary libraries"
   ]
  },
  {
   "cell_type": "code",
   "execution_count": 17,
   "id": "a3115828",
   "metadata": {},
   "outputs": [],
   "source": [
    "# Imports\n",
    "\n",
    "# Import matplotlib for plotting\n",
    "import matplotlib.pyplot as plt\n",
    "\n",
    "# Import pandas for data manipulation\n",
    "import pandas as pd\n",
    "from pandas.plotting import scatter_matrix\n",
    "\n",
    "# Import seaborn for statistical data visualization\n",
    "import seaborn as sns\n",
    "\n",
    "# Import train_test_split from sklearn for splitting datasets\n",
    "# Import StratifiedShuffleSplit for stratified sampling\n",
    "from sklearn.model_selection import StratifiedShuffleSplit, train_test_split\n"
   ]
  },
  {
   "cell_type": "markdown",
   "id": "511050fa",
   "metadata": {},
   "source": [
    "### 1.2 Load the dataset and display the first 10 rows"
   ]
  },
  {
   "cell_type": "code",
   "execution_count": 18,
   "id": "5ff67534",
   "metadata": {},
   "outputs": [
    {
     "name": "stdout",
     "output_type": "stream",
     "text": [
      "   survived  pclass     sex   age  sibsp  parch     fare embarked   class  \\\n",
      "0         0       3    male  22.0      1      0   7.2500        S   Third   \n",
      "1         1       1  female  38.0      1      0  71.2833        C   First   \n",
      "2         1       3  female  26.0      0      0   7.9250        S   Third   \n",
      "3         1       1  female  35.0      1      0  53.1000        S   First   \n",
      "4         0       3    male  35.0      0      0   8.0500        S   Third   \n",
      "5         0       3    male   NaN      0      0   8.4583        Q   Third   \n",
      "6         0       1    male  54.0      0      0  51.8625        S   First   \n",
      "7         0       3    male   2.0      3      1  21.0750        S   Third   \n",
      "8         1       3  female  27.0      0      2  11.1333        S   Third   \n",
      "9         1       2  female  14.0      1      0  30.0708        C  Second   \n",
      "\n",
      "     who  adult_male deck  embark_town alive  alone  \n",
      "0    man        True  NaN  Southampton    no  False  \n",
      "1  woman       False    C    Cherbourg   yes  False  \n",
      "2  woman       False  NaN  Southampton   yes   True  \n",
      "3  woman       False    C  Southampton   yes  False  \n",
      "4    man        True  NaN  Southampton    no   True  \n",
      "5    man        True  NaN   Queenstown    no   True  \n",
      "6    man        True    E  Southampton    no   True  \n",
      "7  child       False  NaN  Southampton    no  False  \n",
      "8  woman       False  NaN  Southampton   yes  False  \n",
      "9  child       False  NaN    Cherbourg   yes  False  \n"
     ]
    }
   ],
   "source": [
    "# Load the data\n",
    "titanic = sns.load_dataset(\"titanic\")\n",
    "\n",
    "# Display the first ten rows\n",
    "print(titanic.head(10))"
   ]
  },
  {
   "cell_type": "markdown",
   "id": "134414a2",
   "metadata": {},
   "source": [
    "### 1.3 Check for missing values and display summary statistics"
   ]
  },
  {
   "cell_type": "code",
   "execution_count": 19,
   "id": "b95740c8",
   "metadata": {},
   "outputs": [
    {
     "name": "stdout",
     "output_type": "stream",
     "text": [
      "Data Info:\n",
      "<class 'pandas.core.frame.DataFrame'>\n",
      "RangeIndex: 891 entries, 0 to 890\n",
      "Data columns (total 15 columns):\n",
      " #   Column       Non-Null Count  Dtype   \n",
      "---  ------       --------------  -----   \n",
      " 0   survived     891 non-null    int64   \n",
      " 1   pclass       891 non-null    int64   \n",
      " 2   sex          891 non-null    object  \n",
      " 3   age          714 non-null    float64 \n",
      " 4   sibsp        891 non-null    int64   \n",
      " 5   parch        891 non-null    int64   \n",
      " 6   fare         891 non-null    float64 \n",
      " 7   embarked     889 non-null    object  \n",
      " 8   class        891 non-null    category\n",
      " 9   who          891 non-null    object  \n",
      " 10  adult_male   891 non-null    bool    \n",
      " 11  deck         203 non-null    category\n",
      " 12  embark_town  889 non-null    object  \n",
      " 13  alive        891 non-null    object  \n",
      " 14  alone        891 non-null    bool    \n",
      "dtypes: bool(2), category(2), float64(2), int64(4), object(5)\n",
      "memory usage: 80.7+ KB\n",
      "None\n"
     ]
    }
   ],
   "source": [
    "# Display the data types and missing values\n",
    "print(\"Data Info:\")\n",
    "print(titanic.info())\n"
   ]
  },
  {
   "cell_type": "code",
   "execution_count": 20,
   "id": "ccf95bcc",
   "metadata": {},
   "outputs": [
    {
     "name": "stdout",
     "output_type": "stream",
     "text": [
      "Summary Statistics:\n",
      "          survived      pclass   sex         age       sibsp       parch  \\\n",
      "count   891.000000  891.000000   891  714.000000  891.000000  891.000000   \n",
      "unique         NaN         NaN     2         NaN         NaN         NaN   \n",
      "top            NaN         NaN  male         NaN         NaN         NaN   \n",
      "freq           NaN         NaN   577         NaN         NaN         NaN   \n",
      "mean      0.383838    2.308642   NaN   29.699118    0.523008    0.381594   \n",
      "std       0.486592    0.836071   NaN   14.526497    1.102743    0.806057   \n",
      "min       0.000000    1.000000   NaN    0.420000    0.000000    0.000000   \n",
      "25%       0.000000    2.000000   NaN   20.125000    0.000000    0.000000   \n",
      "50%       0.000000    3.000000   NaN   28.000000    0.000000    0.000000   \n",
      "75%       1.000000    3.000000   NaN   38.000000    1.000000    0.000000   \n",
      "max       1.000000    3.000000   NaN   80.000000    8.000000    6.000000   \n",
      "\n",
      "              fare embarked  class  who adult_male deck  embark_town alive  \\\n",
      "count   891.000000      889    891  891        891  203          889   891   \n",
      "unique         NaN        3      3    3          2    7            3     2   \n",
      "top            NaN        S  Third  man       True    C  Southampton    no   \n",
      "freq           NaN      644    491  537        537   59          644   549   \n",
      "mean     32.204208      NaN    NaN  NaN        NaN  NaN          NaN   NaN   \n",
      "std      49.693429      NaN    NaN  NaN        NaN  NaN          NaN   NaN   \n",
      "min       0.000000      NaN    NaN  NaN        NaN  NaN          NaN   NaN   \n",
      "25%       7.910400      NaN    NaN  NaN        NaN  NaN          NaN   NaN   \n",
      "50%      14.454200      NaN    NaN  NaN        NaN  NaN          NaN   NaN   \n",
      "75%      31.000000      NaN    NaN  NaN        NaN  NaN          NaN   NaN   \n",
      "max     512.329200      NaN    NaN  NaN        NaN  NaN          NaN   NaN   \n",
      "\n",
      "       alone  \n",
      "count    891  \n",
      "unique     2  \n",
      "top     True  \n",
      "freq     537  \n",
      "mean     NaN  \n",
      "std      NaN  \n",
      "min      NaN  \n",
      "25%      NaN  \n",
      "50%      NaN  \n",
      "75%      NaN  \n",
      "max      NaN  \n"
     ]
    }
   ],
   "source": [
    "# Display summary statistics\n",
    "print(\"Summary Statistics:\")\n",
    "print(titanic.describe(include=\"all\"))"
   ]
  },
  {
   "cell_type": "code",
   "execution_count": 21,
   "id": "60b421d7",
   "metadata": {},
   "outputs": [
    {
     "name": "stdout",
     "output_type": "stream",
     "text": [
      "Missing Values:\n",
      "survived         0\n",
      "pclass           0\n",
      "sex              0\n",
      "age            177\n",
      "sibsp            0\n",
      "parch            0\n",
      "fare             0\n",
      "embarked         2\n",
      "class            0\n",
      "who              0\n",
      "adult_male       0\n",
      "deck           688\n",
      "embark_town      2\n",
      "alive            0\n",
      "alone            0\n",
      "dtype: int64\n"
     ]
    }
   ],
   "source": [
    "# Identify missing values\n",
    "print(\"Missing Values:\")\n",
    "print(titanic.isnull().sum())"
   ]
  },
  {
   "cell_type": "code",
   "execution_count": 22,
   "id": "fc83b316",
   "metadata": {},
   "outputs": [
    {
     "name": "stdout",
     "output_type": "stream",
     "text": [
      "Correlation Matrix:\n",
      "            survived    pclass       age     sibsp     parch      fare  \\\n",
      "survived    1.000000 -0.338481 -0.077221 -0.035322  0.081629  0.257307   \n",
      "pclass     -0.338481  1.000000 -0.369226  0.083081  0.018443 -0.549500   \n",
      "age        -0.077221 -0.369226  1.000000 -0.308247 -0.189119  0.096067   \n",
      "sibsp      -0.035322  0.083081 -0.308247  1.000000  0.414838  0.159651   \n",
      "parch       0.081629  0.018443 -0.189119  0.414838  1.000000  0.216225   \n",
      "fare        0.257307 -0.549500  0.096067  0.159651  0.216225  1.000000   \n",
      "adult_male -0.557080  0.094035  0.280328 -0.253586 -0.349943 -0.182024   \n",
      "alone      -0.203367  0.135207  0.198270 -0.584471 -0.583398 -0.271832   \n",
      "\n",
      "            adult_male     alone  \n",
      "survived     -0.557080 -0.203367  \n",
      "pclass        0.094035  0.135207  \n",
      "age           0.280328  0.198270  \n",
      "sibsp        -0.253586 -0.584471  \n",
      "parch        -0.349943 -0.583398  \n",
      "fare         -0.182024 -0.271832  \n",
      "adult_male    1.000000  0.404744  \n",
      "alone         0.404744  1.000000  \n"
     ]
    }
   ],
   "source": [
    "# Check for correlations between numerical features\n",
    "print(\"Correlation Matrix:\")\n",
    "print(titanic.corr(numeric_only=True))"
   ]
  }
 ],
 "metadata": {
  "kernelspec": {
   "display_name": "applied-ml-miller",
   "language": "python",
   "name": "python3"
  },
  "language_info": {
   "codemirror_mode": {
    "name": "ipython",
    "version": 3
   },
   "file_extension": ".py",
   "mimetype": "text/x-python",
   "name": "python",
   "nbconvert_exporter": "python",
   "pygments_lexer": "ipython3",
   "version": "3.12.12"
  }
 },
 "nbformat": 4,
 "nbformat_minor": 5
}
